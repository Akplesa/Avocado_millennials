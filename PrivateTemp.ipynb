{
 "cells": [
  {
   "cell_type": "code",
   "execution_count": null,
   "metadata": {},
   "outputs": [],
   "source": [
    "CONSUMER_KEY= 'IlcLUGCEvudg0dGe0Uz8QZvQ8'\n",
    "ACCESS_TOKEN_SECRET= 'Dn0qz9D9EkA439CvF5y5GmYBMwgNXxR4iH1GfYhkdU07eiDB3B'\n",
    "ACCESS_TOKEN= \n",
    "'AAAAAAAAAAAAAAAAAAAAABqVIAEAAAAA47q%2F%2BqB9rlpFT7cf%2FAT5NhDk1Gs%3DtDx4H4cSliPdEfDEuvVIujaUEHO4bg8YqhC2xF2jLA5JPPBzAX'"
   ]
  }
 ],
 "metadata": {
  "kernelspec": {
   "display_name": "Python 3",
   "language": "python",
   "name": "python3"
  },
  "language_info": {
   "codemirror_mode": {
    "name": "ipython",
    "version": 3
   },
   "file_extension": ".py",
   "mimetype": "text/x-python",
   "name": "python",
   "nbconvert_exporter": "python",
   "pygments_lexer": "ipython3",
   "version": "3.7.6"
  }
 },
 "nbformat": 4,
 "nbformat_minor": 4
}
