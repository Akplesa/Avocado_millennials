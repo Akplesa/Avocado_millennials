{
 "cells": [
  {
   "cell_type": "code",
   "execution_count": 1,
   "metadata": {},
   "outputs": [
    {
     "ename": "AttributeError",
     "evalue": "'list' object has no attribute 'appened'",
     "output_type": "error",
     "traceback": [
      "\u001b[0;31m---------------------------------------------------------------------------\u001b[0m",
      "\u001b[0;31mAttributeError\u001b[0m                            Traceback (most recent call last)",
      "\u001b[0;32m<ipython-input-1-ff2096e7599f>\u001b[0m in \u001b[0;36m<module>\u001b[0;34m\u001b[0m\n\u001b[1;32m      1\u001b[0m \u001b[0;32mimport\u001b[0m \u001b[0msys\u001b[0m\u001b[0;34m\u001b[0m\u001b[0;34m\u001b[0m\u001b[0m\n\u001b[0;32m----> 2\u001b[0;31m \u001b[0msys\u001b[0m\u001b[0;34m.\u001b[0m\u001b[0mpath\u001b[0m\u001b[0;34m.\u001b[0m\u001b[0mappened\u001b[0m\u001b[0;34m(\u001b[0m\u001b[0;34m'C:\\Python\\Scripts\\Twitter'\u001b[0m\u001b[0;34m)\u001b[0m\u001b[0;34m\u001b[0m\u001b[0;34m\u001b[0m\u001b[0m\n\u001b[0m\u001b[1;32m      3\u001b[0m \u001b[0;32mimport\u001b[0m \u001b[0mtweepy\u001b[0m\u001b[0;34m\u001b[0m\u001b[0;34m\u001b[0m\u001b[0m\n\u001b[1;32m      4\u001b[0m \u001b[0;32mimport\u001b[0m \u001b[0mprivate\u001b[0m\u001b[0;34m\u001b[0m\u001b[0;34m\u001b[0m\u001b[0m\n\u001b[1;32m      5\u001b[0m \u001b[0;32mimport\u001b[0m \u001b[0mdate\u001b[0m\u001b[0;34m,\u001b[0m \u001b[0mtime\u001b[0m\u001b[0;34m\u001b[0m\u001b[0;34m\u001b[0m\u001b[0m\n",
      "\u001b[0;31mAttributeError\u001b[0m: 'list' object has no attribute 'appened'"
     ]
    }
   ],
   "source": [
    "from flask import Flask, request\n",
    "from flask_restful import Resource, Api\n",
    "from sqlalchemy import create_engine\n",
    "from json import dumps\n",
    "from flask.ext.jsonpify import jsonify\n",
    "\n",
    "\n",
    "class Employees(Resource):\n",
    "    def get(self):\n",
    "        conn = db_connect.connect() # connect to database\n",
    "        query = conn.execute(\"select * from employees\") # This line performs query and returns json result\n",
    "        return {'employees': [i[0] for i in query.cursor.fetchall()]} # Fetches first column that is Employee ID\n",
    "\n",
    "class Tracks(Resource):\n",
    "    def get(self):\n",
    "        conn = db_connect.connect()\n",
    "        query = conn.execute(\"select trackid, name, composer, unitprice from tracks;\")\n",
    "        result = {'data': [dict(zip(tuple (query.keys()) ,i)) for i in query.cursor]}\n",
    "        return jsonify(result)\n",
    "\n",
    "class Employees_Name(Resource):\n",
    "    def get(self, employee_id):\n",
    "        conn = db_connect.connect()\n",
    "        query = conn.execute(\"select * from employees where EmployeeId =%d \"  %int(employee_id))\n",
    "        result = {'data': [dict(zip(tuple (query.keys()) ,i)) for i in query.cursor]}\n",
    "        return jsonify(result)\n",
    "        \n",
    "\n",
    "api.add_resource(Employees, '/employees') # Route_1\n",
    "api.add_resource(Tracks, '/tracks') # Route_2\n",
    "api.add_resource(Employees_Name, '/employees/<employee_id>') # Route_3\n",
    "\n",
    "\n",
    "if __name__ == '__main__':\n",
    "     app.run(port='5002')"
   ]
  },
  {
   "cell_type": "code",
   "execution_count": null,
   "metadata": {},
   "outputs": [],
   "source": [
    "\n",
    "db_connect = create_engine('sqlite:///chinook.db')\n",
    "app = Flask(__name__)\n",
    "api = Api(app)"
   ]
  },
  {
   "cell_type": "code",
   "execution_count": null,
   "metadata": {},
   "outputs": [],
   "source": []
  }
 ],
 "metadata": {
  "kernelspec": {
   "display_name": "Python 3",
   "language": "python",
   "name": "python3"
  },
  "language_info": {
   "codemirror_mode": {
    "name": "ipython",
    "version": 3
   },
   "file_extension": ".py",
   "mimetype": "text/x-python",
   "name": "python",
   "nbconvert_exporter": "python",
   "pygments_lexer": "ipython3",
   "version": "3.7.6"
  }
 },
 "nbformat": 4,
 "nbformat_minor": 4
}
